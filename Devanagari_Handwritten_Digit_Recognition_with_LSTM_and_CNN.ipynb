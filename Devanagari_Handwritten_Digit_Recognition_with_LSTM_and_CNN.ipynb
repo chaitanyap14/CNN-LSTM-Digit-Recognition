{
  "cells": [
    {
      "cell_type": "code",
      "source": [
        "from google.colab import drive\n",
        "drive.mount(\"/content/drive\")"
      ],
      "metadata": {
        "colab": {
          "base_uri": "https://localhost:8080/"
        },
        "id": "cA0_kEqzvC1c",
        "outputId": "7b0783d7-e488-4a17-88e4-73ff572068d1"
      },
      "id": "cA0_kEqzvC1c",
      "execution_count": 1,
      "outputs": [
        {
          "output_type": "stream",
          "name": "stdout",
          "text": [
            "Mounted at /content/drive\n"
          ]
        }
      ]
    },
    {
      "cell_type": "code",
      "execution_count": 20,
      "id": "c733077d",
      "metadata": {
        "id": "c733077d"
      },
      "outputs": [],
      "source": [
        "import os\n",
        "import cv2\n",
        "import numpy as np\n",
        "from keras.models import Sequential\n",
        "from keras.layers import Dense, Dropout, Flatten, LSTM\n",
        "from keras.layers import Conv2D, MaxPooling2D\n",
        "from keras.callbacks import EarlyStopping\n",
        "import keras.utils as np_utils\n",
        "\n",
        "# Define train and test paths\n",
        "train_path = 'drive/MyDrive/DevanagariHandwrittenDigitDataset/Train'\n",
        "test_path = 'drive/MyDrive/DevanagariHandwrittenDigitDataset/Test'\n",
        "\n",
        "# Define the number of classes\n",
        "num_classes = 10\n",
        "\n",
        "# Define image size and number of channels\n",
        "img_rows, img_cols, img_channels = 32, 32, 1"
      ]
    },
    {
      "cell_type": "code",
      "source": [
        "# Define a function to load the data from the specified path\n",
        "import re\n",
        "\n",
        "def load_data(path):\n",
        "    data = []\n",
        "    labels = []\n",
        "    pattern = r\"\\d+\" # regular expression to match digits in folder name\n",
        "    for folder in os.listdir(path):\n",
        "        folder_path = os.path.join(path, folder)\n",
        "        for file in os.listdir(folder_path):\n",
        "            file_path = os.path.join(folder_path, file)\n",
        "            image = cv2.imread(file_path, cv2.IMREAD_GRAYSCALE)\n",
        "            image = cv2.resize(image, (img_rows, img_cols))\n",
        "            data.append(image)\n",
        "            match = re.search(pattern, folder)\n",
        "            labels.append(int(match.group())) # convert matched digits to integer label\n",
        "    data = np.array(data)\n",
        "    data = data.reshape(data.shape[0], img_rows, img_cols, img_channels)\n",
        "    data = data.astype('float32')\n",
        "    data /= 255\n",
        "    labels = np.array(labels)\n",
        "    labels = np_utils.to_categorical(labels, num_classes)\n",
        "    return data, labels"
      ],
      "metadata": {
        "id": "i6GYeiNpx9Zt"
      },
      "id": "i6GYeiNpx9Zt",
      "execution_count": 3,
      "outputs": []
    },
    {
      "cell_type": "code",
      "source": [
        "# Load the training data\n",
        "X_train, y_train = load_data(train_path)\n",
        "\n",
        "# Load the testing data\n",
        "X_test, y_test = load_data(test_path)"
      ],
      "metadata": {
        "id": "_m3s5g54yHv7"
      },
      "id": "_m3s5g54yHv7",
      "execution_count": 4,
      "outputs": []
    },
    {
      "cell_type": "code",
      "source": [
        "# Define the CNN-LSTM model\n",
        "model = Sequential()\n",
        "model.add(Conv2D(32, (3, 3), padding='same', activation='relu', input_shape=(img_rows, img_cols, img_channels)))\n",
        "model.add(MaxPooling2D(pool_size=(2, 2)))\n",
        "model.add(Conv2D(64, (3, 3), padding='same', activation='relu'))\n",
        "model.add(MaxPooling2D(pool_size=(2, 2)))\n",
        "from keras.layers import Reshape\n",
        "from keras.layers import TimeDistributed, LSTM, Dense\n",
        "model.add(Flatten())\n",
        "model.add(Reshape((8, 8, 64)))\n",
        "\n",
        "model.add(TimeDistributed(Flatten()))\n",
        "model.add(TimeDistributed(Dense(128)))\n",
        "model.add(LSTM(128, return_sequences=True))\n",
        "model.add(Dropout(0.2))\n",
        "model.add(LSTM(128))\n",
        "model.add(Dropout(0.2))\n",
        "model.add(Dense(num_classes, activation='softmax'))"
      ],
      "metadata": {
        "colab": {
          "base_uri": "https://localhost:8080/"
        },
        "id": "cPvLhbkjyQ5F",
        "outputId": "a98a4cf4-4676-493e-f2ac-79b96f8dab79"
      },
      "id": "cPvLhbkjyQ5F",
      "execution_count": 26,
      "outputs": [
        {
          "output_type": "stream",
          "name": "stderr",
          "text": [
            "/usr/local/lib/python3.10/dist-packages/keras/src/layers/convolutional/base_conv.py:107: UserWarning: Do not pass an `input_shape`/`input_dim` argument to a layer. When using Sequential models, prefer using an `Input(shape)` object as the first layer in the model instead.\n",
            "  super().__init__(activity_regularizer=activity_regularizer, **kwargs)\n"
          ]
        }
      ]
    },
    {
      "cell_type": "code",
      "source": [
        "# Compile the model\n",
        "model.compile(loss='categorical_crossentropy', optimizer='adam', metrics=['accuracy'])"
      ],
      "metadata": {
        "id": "7JJMjobByYpm"
      },
      "id": "7JJMjobByYpm",
      "execution_count": 27,
      "outputs": []
    },
    {
      "cell_type": "code",
      "execution_count": 28,
      "id": "0adac6d6",
      "metadata": {
        "colab": {
          "base_uri": "https://localhost:8080/"
        },
        "id": "0adac6d6",
        "outputId": "5f1a3165-0ef6-4bbc-c972-5c60a855a6c4"
      },
      "outputs": [
        {
          "output_type": "stream",
          "name": "stdout",
          "text": [
            "Epoch 1/20\n",
            "\u001b[1m266/266\u001b[0m \u001b[32m━━━━━━━━━━━━━━━━━━━━\u001b[0m\u001b[37m\u001b[0m \u001b[1m72s\u001b[0m 186ms/step - accuracy: 0.6214 - loss: 1.0630 - val_accuracy: 0.9690 - val_loss: 0.1106\n",
            "Epoch 2/20\n",
            "\u001b[1m266/266\u001b[0m \u001b[32m━━━━━━━━━━━━━━━━━━━━\u001b[0m\u001b[37m\u001b[0m \u001b[1m75s\u001b[0m 159ms/step - accuracy: 0.9713 - loss: 0.0950 - val_accuracy: 0.9840 - val_loss: 0.0578\n",
            "Epoch 3/20\n",
            "\u001b[1m266/266\u001b[0m \u001b[32m━━━━━━━━━━━━━━━━━━━━\u001b[0m\u001b[37m\u001b[0m \u001b[1m43s\u001b[0m 161ms/step - accuracy: 0.9830 - loss: 0.0562 - val_accuracy: 0.9883 - val_loss: 0.0451\n",
            "Epoch 4/20\n",
            "\u001b[1m266/266\u001b[0m \u001b[32m━━━━━━━━━━━━━━━━━━━━\u001b[0m\u001b[37m\u001b[0m \u001b[1m44s\u001b[0m 164ms/step - accuracy: 0.9910 - loss: 0.0318 - val_accuracy: 0.9887 - val_loss: 0.0379\n",
            "Epoch 5/20\n",
            "\u001b[1m266/266\u001b[0m \u001b[32m━━━━━━━━━━━━━━━━━━━━\u001b[0m\u001b[37m\u001b[0m \u001b[1m82s\u001b[0m 164ms/step - accuracy: 0.9956 - loss: 0.0163 - val_accuracy: 0.9883 - val_loss: 0.0395\n",
            "Epoch 6/20\n",
            "\u001b[1m266/266\u001b[0m \u001b[32m━━━━━━━━━━━━━━━━━━━━\u001b[0m\u001b[37m\u001b[0m \u001b[1m82s\u001b[0m 164ms/step - accuracy: 0.9917 - loss: 0.0285 - val_accuracy: 0.9877 - val_loss: 0.0400\n",
            "Epoch 7/20\n",
            "\u001b[1m266/266\u001b[0m \u001b[32m━━━━━━━━━━━━━━━━━━━━\u001b[0m\u001b[37m\u001b[0m \u001b[1m80s\u001b[0m 158ms/step - accuracy: 0.9965 - loss: 0.0116 - val_accuracy: 0.9903 - val_loss: 0.0343\n",
            "Epoch 8/20\n",
            "\u001b[1m266/266\u001b[0m \u001b[32m━━━━━━━━━━━━━━━━━━━━\u001b[0m\u001b[37m\u001b[0m \u001b[1m89s\u001b[0m 185ms/step - accuracy: 0.9960 - loss: 0.0150 - val_accuracy: 0.9937 - val_loss: 0.0238\n",
            "Epoch 9/20\n",
            "\u001b[1m266/266\u001b[0m \u001b[32m━━━━━━━━━━━━━━━━━━━━\u001b[0m\u001b[37m\u001b[0m \u001b[1m77s\u001b[0m 168ms/step - accuracy: 0.9969 - loss: 0.0106 - val_accuracy: 0.9933 - val_loss: 0.0189\n",
            "Epoch 10/20\n",
            "\u001b[1m266/266\u001b[0m \u001b[32m━━━━━━━━━━━━━━━━━━━━\u001b[0m\u001b[37m\u001b[0m \u001b[1m44s\u001b[0m 164ms/step - accuracy: 0.9959 - loss: 0.0126 - val_accuracy: 0.9947 - val_loss: 0.0180\n",
            "Epoch 11/20\n",
            "\u001b[1m266/266\u001b[0m \u001b[32m━━━━━━━━━━━━━━━━━━━━\u001b[0m\u001b[37m\u001b[0m \u001b[1m44s\u001b[0m 167ms/step - accuracy: 0.9990 - loss: 0.0042 - val_accuracy: 0.9933 - val_loss: 0.0206\n",
            "Epoch 12/20\n",
            "\u001b[1m266/266\u001b[0m \u001b[32m━━━━━━━━━━━━━━━━━━━━\u001b[0m\u001b[37m\u001b[0m \u001b[1m83s\u001b[0m 170ms/step - accuracy: 0.9977 - loss: 0.0083 - val_accuracy: 0.9950 - val_loss: 0.0154\n",
            "Epoch 13/20\n",
            "\u001b[1m266/266\u001b[0m \u001b[32m━━━━━━━━━━━━━━━━━━━━\u001b[0m\u001b[37m\u001b[0m \u001b[1m78s\u001b[0m 156ms/step - accuracy: 0.9990 - loss: 0.0034 - val_accuracy: 0.9950 - val_loss: 0.0161\n",
            "Epoch 14/20\n",
            "\u001b[1m266/266\u001b[0m \u001b[32m━━━━━━━━━━━━━━━━━━━━\u001b[0m\u001b[37m\u001b[0m \u001b[1m83s\u001b[0m 162ms/step - accuracy: 0.9980 - loss: 0.0078 - val_accuracy: 0.9913 - val_loss: 0.0273\n",
            "Epoch 15/20\n",
            "\u001b[1m266/266\u001b[0m \u001b[32m━━━━━━━━━━━━━━━━━━━━\u001b[0m\u001b[37m\u001b[0m \u001b[1m83s\u001b[0m 166ms/step - accuracy: 0.9934 - loss: 0.0221 - val_accuracy: 0.9900 - val_loss: 0.0352\n"
          ]
        },
        {
          "output_type": "execute_result",
          "data": {
            "text/plain": [
              "<keras.src.callbacks.history.History at 0x7ded6be75510>"
            ]
          },
          "metadata": {},
          "execution_count": 28
        }
      ],
      "source": [
        "callback = EarlyStopping(monitor=\"loss\", patience=2)\n",
        "\n",
        "# Fit the model to the training data\n",
        "model.fit(X_train, y_train, validation_data=(X_test, y_test), epochs=20, batch_size=64, callbacks=[callback])"
      ]
    },
    {
      "cell_type": "code",
      "execution_count": 29,
      "id": "95deeb22",
      "metadata": {
        "id": "95deeb22",
        "colab": {
          "base_uri": "https://localhost:8080/"
        },
        "outputId": "1a4f83c7-d8a3-496f-d40b-226fb6099441"
      },
      "outputs": [
        {
          "output_type": "stream",
          "name": "stdout",
          "text": [
            "Accuracy: 99.00%\n"
          ]
        }
      ],
      "source": [
        "\n",
        "# Evaluate the model on the testing data\n",
        "scores = model.evaluate(X_test, y_test, verbose=0)\n",
        "print(\"Accuracy: %.2f%%\" % (scores[1]*100))"
      ]
    }
  ],
  "metadata": {
    "kernelspec": {
      "display_name": "Python 3",
      "name": "python3"
    },
    "language_info": {
      "codemirror_mode": {
        "name": "ipython",
        "version": 3
      },
      "file_extension": ".py",
      "mimetype": "text/x-python",
      "name": "python",
      "nbconvert_exporter": "python",
      "pygments_lexer": "ipython3",
      "version": "3.9.12"
    },
    "colab": {
      "provenance": []
    }
  },
  "nbformat": 4,
  "nbformat_minor": 5
}